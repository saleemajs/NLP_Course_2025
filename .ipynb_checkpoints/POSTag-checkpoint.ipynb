{
 "cells": [
  {
   "cell_type": "markdown",
   "id": "dc79df72-f62a-4662-bb7e-9e826b3a5914",
   "metadata": {},
   "source": [
    "# Universal Dependencies (UD) - NOUN(Common Noun), ADJ(Adjective), ADV(Adverb)"
   ]
  },
  {
   "cell_type": "code",
   "execution_count": null,
   "id": "e72d44f4-83d6-4c52-8028-b82c962306d0",
   "metadata": {},
   "outputs": [],
   "source": [
    "#https://www.nltk.org/book/ch05.html"
   ]
  },
  {
   "attachments": {},
   "cell_type": "markdown",
   "id": "2a1161a4-1a20-42a6-86d6-9e618e485daa",
   "metadata": {},
   "source": [
    "#https://medium.com/@abhishekjainindore24/all-about-tokenization-stop-words-stemming-and-lemmatization-in-nlp-1620ffaf0f87"
   ]
  },
  {
   "cell_type": "code",
   "execution_count": 1,
   "id": "0855d754-378c-4510-887b-40a455d531a3",
   "metadata": {},
   "outputs": [
    {
     "name": "stdout",
     "output_type": "stream",
     "text": [
      "*** Introductory Examples for the NLTK Book ***\n",
      "Loading text1, ..., text9 and sent1, ..., sent9\n",
      "Type the name of the text or sentence to view it.\n",
      "Type: 'texts()' or 'sents()' to list the materials.\n",
      "text1: Moby Dick by Herman Melville 1851\n",
      "text2: Sense and Sensibility by Jane Austen 1811\n",
      "text3: The Book of Genesis\n",
      "text4: Inaugural Address Corpus\n",
      "text5: Chat Corpus\n",
      "text6: Monty Python and the Holy Grail\n",
      "text7: Wall Street Journal\n",
      "text8: Personals Corpus\n",
      "text9: The Man Who Was Thursday by G . K . Chesterton 1908\n"
     ]
    }
   ],
   "source": [
    "import nltk\n",
    "from nltk.book import *"
   ]
  },
  {
   "cell_type": "code",
   "execution_count": 2,
   "id": "810f4423-af0e-449b-9007-918e68e0392d",
   "metadata": {},
   "outputs": [
    {
     "name": "stdout",
     "output_type": "stream",
     "text": [
      "<Text: Moby Dick by Herman Melville 1851>\n"
     ]
    }
   ],
   "source": [
    "print(text1)"
   ]
  },
  {
   "cell_type": "code",
   "execution_count": 4,
   "id": "6ebd489d-24c3-40a0-bd55-6d2e4caec80e",
   "metadata": {},
   "outputs": [
    {
     "name": "stderr",
     "output_type": "stream",
     "text": [
      "[nltk_data] Downloading package punkt to C:\\nltk_data...\n",
      "[nltk_data]   Package punkt is already up-to-date!\n"
     ]
    },
    {
     "data": {
      "text/plain": [
       "True"
      ]
     },
     "execution_count": 4,
     "metadata": {},
     "output_type": "execute_result"
    }
   ],
   "source": [
    "nltk.download('punkt')"
   ]
  },
  {
   "cell_type": "code",
   "execution_count": 12,
   "id": "82c162cb-4e90-4b05-a7b5-85d2995a52df",
   "metadata": {},
   "outputs": [],
   "source": [
    "Text = \"Today morning, boby felt very good.\""
   ]
  },
  {
   "cell_type": "code",
   "execution_count": 13,
   "id": "2cfee88a-e9b8-4a98-b7af-afe7e5c5c9e0",
   "metadata": {},
   "outputs": [
    {
     "name": "stdout",
     "output_type": "stream",
     "text": [
      "['Today', 'morning', ',', 'boby', 'felt', 'very', 'good', '.']\n"
     ]
    }
   ],
   "source": [
    "tokens = nltk.word_tokenize(Text)\n",
    "print(tokens)"
   ]
  },
  {
   "cell_type": "code",
   "execution_count": 15,
   "id": "1dbc6019-0c43-46e8-b951-0fecb7308dd4",
   "metadata": {},
   "outputs": [],
   "source": [
    "Text2=\"\"\"Today morning, boby felt very good.\n",
    "The time is running.\n",
    "\"\"\""
   ]
  },
  {
   "cell_type": "code",
   "execution_count": 25,
   "id": "5a8f7a21-616b-4542-b926-cda8ca716e90",
   "metadata": {},
   "outputs": [
    {
     "name": "stdout",
     "output_type": "stream",
     "text": [
      "['Today morning, boby felt very good.', 'The time is running.']\n",
      "['Today', 'morning', ',', 'boby', 'felt', 'very', 'good', '.', 'The', 'time', 'is', 'running', '.']\n"
     ]
    }
   ],
   "source": [
    "sentn = nltk.sent_tokenize(Text2)\n",
    "print(sentn)\n",
    "tokens2 = nltk.word_tokenize(Text2)\n",
    "print(tokens2)"
   ]
  },
  {
   "cell_type": "code",
   "execution_count": 20,
   "id": "8177837a-f5b4-435b-be65-46007bea88b2",
   "metadata": {},
   "outputs": [
    {
     "name": "stdout",
     "output_type": "stream",
     "text": [
      "[('Today', 'NN'), ('morning', 'NN'), (',', ','), ('boby', 'NN'), ('felt', 'VBD'), ('very', 'RB'), ('good', 'JJ'), ('.', '.')]\n"
     ]
    }
   ],
   "source": [
    "tagged = nltk.pos_tag(tokens)\n",
    "print(tagged)"
   ]
  },
  {
   "cell_type": "markdown",
   "id": "d598a198-efb2-4557-8e35-fd06a8b9d758",
   "metadata": {},
   "source": [
    "# Stemming"
   ]
  },
  {
   "cell_type": "code",
   "execution_count": 21,
   "id": "adc2a808-9fe1-4ec5-a6fb-ca1062f78867",
   "metadata": {},
   "outputs": [],
   "source": [
    "from nltk.stem import PorterStemmer \n",
    "from nltk.tokenize import word_tokenize "
   ]
  },
  {
   "cell_type": "code",
   "execution_count": 22,
   "id": "aee73d92-bdb1-4e6e-9055-de74a27c632d",
   "metadata": {},
   "outputs": [],
   "source": [
    "ps = PorterStemmer() "
   ]
  },
  {
   "cell_type": "code",
   "execution_count": 26,
   "id": "b689dc7e-3fc4-4f56-9a81-8d64035cbe39",
   "metadata": {},
   "outputs": [
    {
     "name": "stdout",
     "output_type": "stream",
     "text": [
      "Today - today\n",
      "morning - morn\n",
      ", - ,\n",
      "boby - bobi\n",
      "felt - felt\n",
      "very - veri\n",
      "good - good\n",
      ". - .\n",
      "The - the\n",
      "time - time\n",
      "is - is\n",
      "running - run\n",
      ". - .\n"
     ]
    }
   ],
   "source": [
    "for w in tokens2: \n",
    "    print(w, \"-\", ps.stem(w))"
   ]
  },
  {
   "cell_type": "markdown",
   "id": "f8d8216c-4f9f-47f6-b91b-bc4f62c3c8c3",
   "metadata": {},
   "source": [
    "# Tagger"
   ]
  },
  {
   "cell_type": "code",
   "execution_count": null,
   "id": "3d66b2e2-45f9-49a8-add3-3f72b53ff02e",
   "metadata": {},
   "outputs": [],
   "source": [
    "#https://medium.com/@faisal-fida/the-complete-list-of-pos-tags-in-nltk-with-examples-eb0485f04321"
   ]
  },
  {
   "cell_type": "code",
   "execution_count": null,
   "id": "807e9aaf-e3f1-49db-83d7-2792e1b1cb5e",
   "metadata": {},
   "outputs": [],
   "source": [
    "text1 = word_tokenize(\"And now for something completely different\")"
   ]
  },
  {
   "cell_type": "code",
   "execution_count": 39,
   "id": "ca8a8355-b5f8-49cb-9624-a04ad5147118",
   "metadata": {},
   "outputs": [
    {
     "data": {
      "text/plain": [
       "[('And', 'CC'),\n",
       " ('now', 'RB'),\n",
       " ('for', 'IN'),\n",
       " ('something', 'NN'),\n",
       " ('completely', 'RB'),\n",
       " ('different', 'JJ')]"
      ]
     },
     "execution_count": 39,
     "metadata": {},
     "output_type": "execute_result"
    }
   ],
   "source": [
    "nltk.pos_tag(text1)"
   ]
  },
  {
   "cell_type": "code",
   "execution_count": 29,
   "id": "eeb28bf8-215f-4442-b62a-7264e4c66532",
   "metadata": {},
   "outputs": [
    {
     "data": {
      "text/plain": [
       "[('They', 'PRP'),\n",
       " ('refuse', 'VBP'),\n",
       " ('to', 'TO'),\n",
       " ('permit', 'VB'),\n",
       " ('us', 'PRP'),\n",
       " ('to', 'TO'),\n",
       " ('obtain', 'VB'),\n",
       " ('the', 'DT'),\n",
       " ('refuse', 'NN'),\n",
       " ('permit', 'NN')]"
      ]
     },
     "execution_count": 29,
     "metadata": {},
     "output_type": "execute_result"
    }
   ],
   "source": [
    "text = word_tokenize(\"They refuse to permit us to obtain the refuse permit\")\n",
    "nltk.pos_tag(text)"
   ]
  },
  {
   "cell_type": "code",
   "execution_count": 40,
   "id": "b39ff5ef-f3c0-4525-a0f7-6be4629af144",
   "metadata": {},
   "outputs": [],
   "source": [
    "text3 = nltk.Text(word.lower() for word in nltk.corpus.brown.words())"
   ]
  },
  {
   "cell_type": "code",
   "execution_count": 41,
   "id": "99956da6-0318-4437-bc16-072f67473d7b",
   "metadata": {},
   "outputs": [
    {
     "name": "stdout",
     "output_type": "stream",
     "text": [
      "<Text: the fulton county grand jury said friday an...>\n"
     ]
    }
   ],
   "source": [
    "print(text3)"
   ]
  },
  {
   "cell_type": "code",
   "execution_count": 42,
   "id": "edd73f93-fd20-4713-9b97-94fbb6ff9854",
   "metadata": {},
   "outputs": [
    {
     "name": "stdout",
     "output_type": "stream",
     "text": [
      "man time day year car moment world house family child country boy\n",
      "state job place way war girl work word\n"
     ]
    }
   ],
   "source": [
    "text3.similar('woman')"
   ]
  },
  {
   "cell_type": "code",
   "execution_count": 43,
   "id": "d158e11a-959a-4c8c-adae-31163fd135d3",
   "metadata": {},
   "outputs": [
    {
     "name": "stdout",
     "output_type": "stream",
     "text": [
      "in on to of and for with from at by that into as up out down through\n",
      "is all about\n"
     ]
    }
   ],
   "source": [
    "text3.similar('over')"
   ]
  },
  {
   "cell_type": "code",
   "execution_count": 45,
   "id": "4d48287e-4220-4885-b1d8-0a245ebe5dfe",
   "metadata": {},
   "outputs": [],
   "source": [
    "sent = '''\n",
    "The/AT grand/JJ jury/NN commented/VBD on/IN a/AT number/NN of/IN\n",
    "other/AP topics/NNS ,/, AMONG/IN them/PPO the/AT Atlanta/NP and/CC\n",
    "Fulton/NP-tl County/NN-tl purchasing/VBG departments/NNS which/WDT it/PPS\n",
    "said/VBD ``/`` ARE/BER well/QL operated/VBN and/CC follow/VB generally/RB\n",
    "accepted/VBN practices/NNS which/WDT inure/VB to/IN the/AT best/JJT\n",
    "interest/NN of/IN both/ABX governments/NNS ''/'' ./.\n",
    "'''"
   ]
  },
  {
   "cell_type": "code",
   "execution_count": 46,
   "id": "a43f1f02-59ce-41b4-9df8-70d48bb6808a",
   "metadata": {},
   "outputs": [
    {
     "data": {
      "text/plain": [
       "[('The', 'AT'),\n",
       " ('grand', 'JJ'),\n",
       " ('jury', 'NN'),\n",
       " ('commented', 'VBD'),\n",
       " ('on', 'IN'),\n",
       " ('a', 'AT'),\n",
       " ('number', 'NN'),\n",
       " ('of', 'IN'),\n",
       " ('other', 'AP'),\n",
       " ('topics', 'NNS'),\n",
       " (',', ','),\n",
       " ('AMONG', 'IN'),\n",
       " ('them', 'PPO'),\n",
       " ('the', 'AT'),\n",
       " ('Atlanta', 'NP'),\n",
       " ('and', 'CC'),\n",
       " ('Fulton', 'NP-TL'),\n",
       " ('County', 'NN-TL'),\n",
       " ('purchasing', 'VBG'),\n",
       " ('departments', 'NNS'),\n",
       " ('which', 'WDT'),\n",
       " ('it', 'PPS'),\n",
       " ('said', 'VBD'),\n",
       " ('``', '``'),\n",
       " ('ARE', 'BER'),\n",
       " ('well', 'QL'),\n",
       " ('operated', 'VBN'),\n",
       " ('and', 'CC'),\n",
       " ('follow', 'VB'),\n",
       " ('generally', 'RB'),\n",
       " ('accepted', 'VBN'),\n",
       " ('practices', 'NNS'),\n",
       " ('which', 'WDT'),\n",
       " ('inure', 'VB'),\n",
       " ('to', 'IN'),\n",
       " ('the', 'AT'),\n",
       " ('best', 'JJT'),\n",
       " ('interest', 'NN'),\n",
       " ('of', 'IN'),\n",
       " ('both', 'ABX'),\n",
       " ('governments', 'NNS'),\n",
       " (\"''\", \"''\"),\n",
       " ('.', '.')]"
      ]
     },
     "execution_count": 46,
     "metadata": {},
     "output_type": "execute_result"
    }
   ],
   "source": [
    "[nltk.tag.str2tuple(t) for t in sent.split()]"
   ]
  },
  {
   "cell_type": "code",
   "execution_count": 47,
   "id": "ebbda777-060b-4321-8463-4ca1580dc83a",
   "metadata": {},
   "outputs": [
    {
     "data": {
      "text/plain": [
       "[('The', 'AT'), ('Fulton', 'NP-TL'), ...]"
      ]
     },
     "execution_count": 47,
     "metadata": {},
     "output_type": "execute_result"
    }
   ],
   "source": [
    "nltk.corpus.brown.tagged_words()"
   ]
  },
  {
   "cell_type": "code",
   "execution_count": 48,
   "id": "85d8834e-681a-4cca-9319-1f9d506910cb",
   "metadata": {},
   "outputs": [
    {
     "data": {
      "text/plain": [
       "[('The', 'DET'), ('Fulton', 'NOUN'), ...]"
      ]
     },
     "execution_count": 48,
     "metadata": {},
     "output_type": "execute_result"
    }
   ],
   "source": [
    "nltk.corpus.brown.tagged_words(tagset='universal')"
   ]
  },
  {
   "cell_type": "code",
   "execution_count": 54,
   "id": "6c37c23d-2411-4394-b3bf-5d97e4268806",
   "metadata": {},
   "outputs": [],
   "source": [
    "# Natural Language Toolkit: code_findtags\n",
    "\n",
    "def findtags(tag_prefix, tagged_text):\n",
    "    cfd = nltk.ConditionalFreqDist((tag, word) for (word, tag) in tagged_text if tag.startswith(tag_prefix))\n",
    "    return dict((tag, cfd[tag].most_common(5)) for tag in cfd.conditions())"
   ]
  },
  {
   "cell_type": "code",
   "execution_count": 58,
   "id": "60a43b52-7b82-4dbc-958b-e2bc0558016c",
   "metadata": {},
   "outputs": [
    {
     "name": "stdout",
     "output_type": "stream",
     "text": [
      "{'NN-TL': [('President', 88), ('House', 68), ('State', 59), ('University', 42), ('City', 41)], 'NN': [('year', 137), ('time', 97), ('state', 88), ('week', 85), ('man', 72)], 'NNS': [('years', 101), ('members', 69), ('people', 52), ('sales', 51), ('men', 46)], 'NN-HL': [('sp.', 2), ('problem', 2), ('Question', 2), ('cut', 2), ('party', 2)], 'NN$-TL': [(\"President's\", 11), (\"Administration's\", 3), (\"Army's\", 3), (\"League's\", 3), (\"University's\", 3)], 'NN$': [(\"year's\", 13), (\"world's\", 8), (\"state's\", 7), (\"nation's\", 6), (\"city's\", 6)], 'NNS-HL': [('Wards', 1), ('deputies', 1), ('bonds', 1), ('aspects', 1), ('Decisions', 1)], 'NNS-TL': [('States', 38), ('Nations', 11), ('Masters', 10), ('Communists', 9), ('Rules', 9)], 'NNS$': [(\"children's\", 7), (\"women's\", 5), (\"men's\", 3), (\"janitors'\", 3), (\"taxpayers'\", 2)], 'NNS$-TL': [(\"Women's\", 4), (\"States'\", 3), (\"Giants'\", 2), (\"Princes'\", 1), (\"Bombers'\", 1)], 'NN-TL-HL': [('Fort', 2), ('Mayor', 1), ('Commissioner', 1), ('City', 1), ('Oak', 1)], 'NNS-TL-HL': [('Nations', 1)], 'NN$-HL': [(\"Golf's\", 1), (\"Navy's\", 1)], 'NNS$-HL': [(\"Dealers'\", 1), (\"Idols'\", 1)], 'NN-NC': [('ova', 1), ('eva', 1), ('aya', 1)]}\n"
     ]
    }
   ],
   "source": [
    "tagdict = findtags('NN', nltk.corpus.brown.tagged_words(categories='news'))\n",
    "print(tagdict)"
   ]
  },
  {
   "cell_type": "code",
   "execution_count": 57,
   "id": "4e851316-a7c0-4bdf-a074-256cca968d15",
   "metadata": {},
   "outputs": [
    {
     "name": "stdout",
     "output_type": "stream",
     "text": [
      "NN [('year', 137), ('time', 97), ('state', 88), ('week', 85), ('man', 72)]\n",
      "NN$ [(\"year's\", 13), (\"world's\", 8), (\"state's\", 7), (\"nation's\", 6), (\"city's\", 6)]\n",
      "NN$-HL [(\"Golf's\", 1), (\"Navy's\", 1)]\n",
      "NN$-TL [(\"President's\", 11), (\"Administration's\", 3), (\"Army's\", 3), (\"League's\", 3), (\"University's\", 3)]\n",
      "NN-HL [('sp.', 2), ('problem', 2), ('Question', 2), ('cut', 2), ('party', 2)]\n",
      "NN-NC [('ova', 1), ('eva', 1), ('aya', 1)]\n",
      "NN-TL [('President', 88), ('House', 68), ('State', 59), ('University', 42), ('City', 41)]\n",
      "NN-TL-HL [('Fort', 2), ('Mayor', 1), ('Commissioner', 1), ('City', 1), ('Oak', 1)]\n",
      "NNS [('years', 101), ('members', 69), ('people', 52), ('sales', 51), ('men', 46)]\n",
      "NNS$ [(\"children's\", 7), (\"women's\", 5), (\"men's\", 3), (\"janitors'\", 3), (\"taxpayers'\", 2)]\n",
      "NNS$-HL [(\"Dealers'\", 1), (\"Idols'\", 1)]\n",
      "NNS$-TL [(\"Women's\", 4), (\"States'\", 3), (\"Giants'\", 2), (\"Princes'\", 1), (\"Bombers'\", 1)]\n",
      "NNS-HL [('Wards', 1), ('deputies', 1), ('bonds', 1), ('aspects', 1), ('Decisions', 1)]\n",
      "NNS-TL [('States', 38), ('Nations', 11), ('Masters', 10), ('Communists', 9), ('Rules', 9)]\n",
      "NNS-TL-HL [('Nations', 1)]\n"
     ]
    }
   ],
   "source": [
    "for tag in sorted(tagdict):\n",
    "    print(tag, tagdict[tag])"
   ]
  },
  {
   "cell_type": "markdown",
   "id": "d201885d-4e46-4a1c-a4f8-cd84809f9036",
   "metadata": {},
   "source": [
    "# Sequence of tags"
   ]
  },
  {
   "cell_type": "code",
   "execution_count": 59,
   "id": "a8a62cf1-6358-4fae-8e83-67578f249809",
   "metadata": {},
   "outputs": [],
   "source": [
    "from nltk.corpus import brown"
   ]
  },
  {
   "cell_type": "code",
   "execution_count": 73,
   "id": "82a81a5c-8f84-44f9-a655-cdcf08006510",
   "metadata": {},
   "outputs": [],
   "source": [
    "def process(sentence):\n",
    "    for (w1,t1), (w2,t2), (w3,t3) in nltk.trigrams(sentence):\n",
    "        if (t1.startswith('V') and t2 == 'TO' and t3.startswith('V')):\n",
    "            print(w1, w2, w3)"
   ]
  },
  {
   "cell_type": "code",
   "execution_count": 74,
   "id": "cacc09d6-4bb8-42e2-bb45-378d81cbaf07",
   "metadata": {},
   "outputs": [
    {
     "data": {
      "text/plain": [
       "57340"
      ]
     },
     "execution_count": 74,
     "metadata": {},
     "output_type": "execute_result"
    }
   ],
   "source": [
    "len(brown.tagged_sents())"
   ]
  },
  {
   "cell_type": "code",
   "execution_count": 100,
   "id": "9d9f2219-8261-4033-b99b-141afd5161cf",
   "metadata": {},
   "outputs": [
    {
     "data": {
      "text/plain": [
       "1053"
      ]
     },
     "execution_count": 100,
     "metadata": {},
     "output_type": "execute_result"
    }
   ],
   "source": [
    "#len(brown.tagged_sents(categories=\"news\", tagset=\"universal\"))\n",
    "len(brown.tagged_sents(categories=\"humor\"))"
   ]
  },
  {
   "cell_type": "code",
   "execution_count": 109,
   "id": "c6dbc45b-a67b-446a-b6af-8f0825d947b4",
   "metadata": {},
   "outputs": [],
   "source": [
    "bsent = brown.sents(categories='humor')"
   ]
  },
  {
   "cell_type": "code",
   "execution_count": 110,
   "id": "1b38eda5-9701-4fde-b630-8b6b4a053d33",
   "metadata": {},
   "outputs": [
    {
     "name": "stdout",
     "output_type": "stream",
     "text": [
      "[['It', 'was', 'among', 'these', 'that', 'Hinkle', 'identified', 'a', 'photograph', 'of', 'Barco', '!', '!'], ['For', 'it', 'seems', 'that', 'Barco', ',', 'fancying', 'himself', 'a', \"ladies'\", 'man', '(', 'and', 'why', 'not', ',', 'after', 'seven', 'marriages', '?', '?'], ...]\n"
     ]
    }
   ],
   "source": [
    "print(bsent)"
   ]
  },
  {
   "cell_type": "code",
   "execution_count": 111,
   "id": "d8687290-36f3-40a1-a299-f38c24b3d9ef",
   "metadata": {},
   "outputs": [],
   "source": [
    "btsent=brown.tagged_sents(categories=\"humor\")"
   ]
  },
  {
   "cell_type": "code",
   "execution_count": 112,
   "id": "ca8210bb-9782-4982-b91e-f7f57b463961",
   "metadata": {},
   "outputs": [
    {
     "name": "stdout",
     "output_type": "stream",
     "text": [
      "[[('It', 'PPS'), ('was', 'BEDZ'), ('among', 'IN'), ('these', 'DTS'), ('that', 'CS'), ('Hinkle', 'NP'), ('identified', 'VBD'), ('a', 'AT'), ('photograph', 'NN'), ('of', 'IN'), ('Barco', 'NP'), ('!', '.'), ('!', '.')], [('For', 'CS'), ('it', 'PPS'), ('seems', 'VBZ'), ('that', 'CS'), ('Barco', 'NP'), (',', ','), ('fancying', 'VBG'), ('himself', 'PPL'), ('a', 'AT'), (\"ladies'\", 'NNS$'), ('man', 'NN'), ('(', '('), ('and', 'CC'), ('why', 'WRB'), ('not', '*'), (',', ','), ('after', 'IN'), ('seven', 'CD'), ('marriages', 'NNS'), ('?', '.'), ('?', '.')], ...]\n"
     ]
    }
   ],
   "source": [
    "print(btsent)"
   ]
  },
  {
   "cell_type": "code",
   "execution_count": 103,
   "id": "44b8c4cb-5d32-486e-9657-c934ef3770b5",
   "metadata": {
    "collapsed": true,
    "jupyter": {
     "outputs_hidden": true
    },
    "scrolled": true
   },
   "outputs": [
    {
     "name": "stdout",
     "output_type": "stream",
     "text": [
      "paused to get\n",
      "proceeded to search\n",
      "began to suspect\n",
      "endeavoring to cut\n",
      "wanted to know\n",
      "daring to commit\n",
      "given to dig\n",
      "urged to attend\n",
      "refused to receive\n",
      "beckoned to cross\n",
      "taken to keep\n",
      "trying to hold\n",
      "managing to get\n",
      "promised to illustrate\n",
      "pretending to black\n",
      "wanted to remind\n",
      "Resolving to get\n",
      "started to start\n",
      "starting to woolgather\n",
      "bound to get\n",
      "wanted to keep\n",
      "looked to see\n",
      "chosen to complement\n",
      "live to hear\n",
      "leaping to light\n",
      "trying to prove\n",
      "trying to determine\n",
      "supposed to put\n",
      "proceeded to neglect\n",
      "care to count\n",
      "shuddered to think\n",
      "telephoned to announce\n",
      "neglected to consider\n",
      "trouble to memorize\n",
      "deigned to appear\n",
      "seemed to understand\n",
      "try to revive\n",
      "seemed to produce\n",
      "returning to jump\n",
      "tried to farm\n",
      "going to set\n",
      "turned to stare\n",
      "seem to think\n",
      "liked to hire\n",
      "remember to telephone\n",
      "like to work\n",
      "like to disclose\n",
      "got to put\n",
      "got to run\n",
      "waiting to get\n",
      "need to worry\n",
      "seems to think\n",
      "tries to baffle\n",
      "mean to reconsider\n",
      "refused to make\n",
      "seems to make\n",
      "seems to refer\n",
      "seems to say\n",
      "delighted to meet\n",
      "like to know\n",
      "regret to say\n",
      "seems to refer\n",
      "come to talk\n",
      "seem to remember\n",
      "want to hear\n",
      "trying to get\n",
      "forgot to say\n",
      "seemed to believe\n",
      "wanted to get\n",
      "wanted to see\n",
      "wanted to touch\n",
      "got to entertain\n",
      "tried to keep\n",
      "going to tell\n",
      "thought to mix\n",
      "going to jump\n",
      "beginning to catch\n",
      "try to see\n",
      "phoned to say\n",
      "bothering to look\n",
      "forced to wipe\n",
      "used to pretend\n",
      "refused to approach\n",
      "used to express\n",
      "proceeds to lash\n",
      "used to hang\n",
      "seeks to expunge\n",
      "trying to redeem\n",
      "seemed to take\n",
      "tried to conceal\n",
      "came to know\n",
      "refuses to continue\n",
      "continue to scrape\n",
      "given to understand\n",
      "propose to vent\n",
      "proceeded to mask\n",
      "withhold to keep\n",
      "begin to wither\n",
      "help to intensify\n",
      "seems to overtake\n",
      "want to buy\n"
     ]
    }
   ],
   "source": [
    "for tagged_sent in bsent:\n",
    "    process(tagged_sent)"
   ]
  },
  {
   "cell_type": "code",
   "execution_count": 114,
   "id": "13b9ed7c-22c1-4ca9-95ee-cb6fd7158e94",
   "metadata": {},
   "outputs": [
    {
     "data": {
      "text/plain": [
       "'NN'"
      ]
     },
     "execution_count": 114,
     "metadata": {},
     "output_type": "execute_result"
    }
   ],
   "source": [
    "btags = [tag for (word, tag) in brown.tagged_words(categories='news')]\n",
    "nltk.FreqDist(btags).max()"
   ]
  },
  {
   "cell_type": "code",
   "execution_count": 117,
   "id": "33c72190-875e-49cd-8946-6ac679f00f08",
   "metadata": {},
   "outputs": [
    {
     "data": {
      "text/plain": [
       "FreqDist({'NN': 13162, 'IN': 10616, 'AT': 8893, 'NP': 6866, ',': 5133, 'NNS': 5066, '.': 4452, 'JJ': 4392, 'CC': 2664, 'VBD': 2524, ...})"
      ]
     },
     "execution_count": 117,
     "metadata": {},
     "output_type": "execute_result"
    }
   ],
   "source": [
    "nltk.FreqDist(btags)"
   ]
  },
  {
   "cell_type": "code",
   "execution_count": 118,
   "id": "74010673-1a6a-4f2c-8900-89425e9f1746",
   "metadata": {},
   "outputs": [
    {
     "data": {
      "text/plain": [
       "[('They', 'PRP'),\n",
       " ('refuse', 'VBP'),\n",
       " ('to', 'TO'),\n",
       " ('permit', 'VB'),\n",
       " ('us', 'PRP'),\n",
       " ('to', 'TO'),\n",
       " ('obtain', 'VB'),\n",
       " ('the', 'DT'),\n",
       " ('refuse', 'NN'),\n",
       " ('permit', 'NN')]"
      ]
     },
     "execution_count": 118,
     "metadata": {},
     "output_type": "execute_result"
    }
   ],
   "source": [
    "text = word_tokenize(\"They refuse to permit us to obtain the refuse permit\")\n",
    "nltk.pos_tag(text)"
   ]
  },
  {
   "cell_type": "code",
   "execution_count": 119,
   "id": "7481922e-5037-43b2-b7af-dcde6ccab85e",
   "metadata": {},
   "outputs": [],
   "source": [
    "default_tagger = nltk.DefaultTagger('NN')"
   ]
  },
  {
   "cell_type": "code",
   "execution_count": 120,
   "id": "ec960ed4-faea-4788-b492-1093e9896db0",
   "metadata": {},
   "outputs": [
    {
     "name": "stderr",
     "output_type": "stream",
     "text": [
      "C:\\Users\\salee\\AppData\\Local\\Temp\\ipykernel_24560\\2637268943.py:1: DeprecationWarning: \n",
      "  Function evaluate() has been deprecated.  Use accuracy(gold)\n",
      "  instead.\n",
      "  default_tagger.evaluate(btsent)\n"
     ]
    },
    {
     "data": {
      "text/plain": [
       "0.11832219405392948"
      ]
     },
     "execution_count": 120,
     "metadata": {},
     "output_type": "execute_result"
    }
   ],
   "source": [
    "default_tagger.evaluate(btsent)"
   ]
  },
  {
   "cell_type": "code",
   "execution_count": 122,
   "id": "7f547803-af5f-4d01-85fb-5530efe9f595",
   "metadata": {},
   "outputs": [
    {
     "name": "stdout",
     "output_type": "stream",
     "text": [
      "[[('For', 'CS'), ('it', 'PPS'), ('seems', 'VBZ'), ('that', 'CS'), ('Barco', 'NP'), (',', ','), ('fancying', 'VBG'), ('himself', 'PPL'), ('a', 'AT'), (\"ladies'\", 'NNS$'), ('man', 'NN'), ('(', '('), ('and', 'CC'), ('why', 'WRB'), ('not', '*'), (',', ','), ('after', 'IN'), ('seven', 'CD'), ('marriages', 'NNS'), ('?', '.'), ('?', '.')], [(')', ')'), (',', ','), ('had', 'HVD'), ('listed', 'VBN'), ('himself', 'PPL'), ('for', 'IN'), ('Mormon', 'NP-TL'), ('Beard', 'NN-TL'), ('roles', 'NNS'), ('at', 'IN'), ('the', 'AT'), ('instigation', 'NN'), ('of', 'IN'), ('his', 'PP$'), ('fourth', 'OD'), ('murder', 'NN'), ('victim', 'NN'), ('who', 'WPS'), ('had', 'HVD'), ('said', 'VBN'), (':', ':'), ('``', '``'), ('With', 'IN'), ('your', 'PP$'), ('beard', 'NN'), (',', ','), ('dear', 'JJ'), (',', ','), ('you', 'PPSS'), ('ought', 'MD'), ('to', 'TO'), ('be', 'BE'), ('in', 'IN'), ('movies', 'NNS'), (\"''\", \"''\"), ('!', '.'), ('!', '.')], [('Mills', 'NP'), ('secured', 'VBD'), (\"Barco's\", 'NP$'), ('photograph', 'NN'), ('from', 'IN'), ('the', 'AT'), ('gentleman', 'NN'), ('in', 'IN'), ('charge', 'NN'), (',', ','), ('rushed', 'VBD'), ('to', 'IN'), ('the', 'AT'), ('Hollywood', 'NP'), ('police', 'NN'), ('station', 'NN'), ('to', 'TO'), ('report', 'VB'), ('the', 'AT'), ('theft', 'NN'), (',', ','), ('and', 'CC'), ('less', 'AP'), ('than', 'IN'), ('five', 'CD'), ('minutes', 'NNS'), ('later', 'RBR'), (',', ','), ('detectives', 'NNS'), ('with', 'IN'), ('his', 'PP$'), ('picture', 'NN'), ('in', 'IN'), ('hand', 'NN'), ('were', 'BED'), ('on', 'IN'), ('the', 'AT'), ('trail', 'NN'), ('of', 'IN'), ('Cal', 'NP'), ('Barco', 'NP'), ('.', '.')], [('On', 'IN'), ('their', 'PP$'), ('way', 'NN'), (',', ','), ('they', 'PPSS'), ('stopped', 'VBD'), ('at', 'IN'), ('every', 'AT'), ('gas', 'NN'), ('station', 'NN'), ('along', 'IN'), ('the', 'AT'), ('main', 'NN'), ('boulevards', 'NNS'), ('to', 'TO'), ('question', 'VB'), ('the', 'AT'), ('attendants', 'NNS'), ('.', '.')]]\n"
     ]
    }
   ],
   "source": [
    "print(btsent[1:5])"
   ]
  },
  {
   "cell_type": "code",
   "execution_count": 124,
   "id": "963132dc-5427-4ab4-96a4-a2d0dc39f0ee",
   "metadata": {},
   "outputs": [
    {
     "name": "stdout",
     "output_type": "stream",
     "text": [
      "947\n"
     ]
    }
   ],
   "source": [
    "size = int(len(btsent) * 0.9)\n",
    "print(size)"
   ]
  },
  {
   "cell_type": "code",
   "execution_count": 125,
   "id": "56daee88-d899-4e7e-b0b5-3b805f85aad2",
   "metadata": {},
   "outputs": [
    {
     "name": "stdout",
     "output_type": "stream",
     "text": [
      "1053\n"
     ]
    }
   ],
   "source": [
    "print(len(btsent))"
   ]
  },
  {
   "cell_type": "code",
   "execution_count": 127,
   "id": "f7b0f112-5ce8-4e8c-b2fe-f3bc4aad8104",
   "metadata": {},
   "outputs": [],
   "source": [
    "train_sents = btsent[:size]\n",
    "test_sents = btsent[size:]\n",
    "unigram_tagger = nltk.UnigramTagger(train_sents)"
   ]
  },
  {
   "cell_type": "code",
   "execution_count": 128,
   "id": "3f6e4b28-5d73-4c8b-ba54-1904fdcc760e",
   "metadata": {},
   "outputs": [
    {
     "name": "stderr",
     "output_type": "stream",
     "text": [
      "C:\\Users\\salee\\AppData\\Local\\Temp\\ipykernel_24560\\3641959337.py:1: DeprecationWarning: \n",
      "  Function evaluate() has been deprecated.  Use accuracy(gold)\n",
      "  instead.\n",
      "  unigram_tagger.evaluate(test_sents)\n"
     ]
    },
    {
     "data": {
      "text/plain": [
       "0.6853364449630494"
      ]
     },
     "execution_count": 128,
     "metadata": {},
     "output_type": "execute_result"
    }
   ],
   "source": [
    "unigram_tagger.evaluate(test_sents)"
   ]
  },
  {
   "cell_type": "markdown",
   "id": "776034f1-049a-4b5a-a485-9df507e6367c",
   "metadata": {},
   "source": [
    "# Store tagger"
   ]
  },
  {
   "cell_type": "code",
   "execution_count": 129,
   "id": "c073789e-996f-455e-9391-e6a436c4d23c",
   "metadata": {},
   "outputs": [],
   "source": [
    "from pickle import dump\n",
    "output = open('t1.pkl', 'wb')\n",
    "dump(unigram_tagger, output, -1)\n",
    "output.close()"
   ]
  },
  {
   "cell_type": "code",
   "execution_count": 130,
   "id": "4185a5fd-6ad6-418d-b9b3-6196980578cf",
   "metadata": {},
   "outputs": [],
   "source": [
    "from pickle import load\n",
    "input = open('t1.pkl', 'rb')\n",
    "tagger = load(input)\n",
    "input.close()"
   ]
  },
  {
   "cell_type": "code",
   "execution_count": 131,
   "id": "f5bfeb47-e776-4bf1-ae96-49d032068a40",
   "metadata": {},
   "outputs": [],
   "source": [
    " text = \"\"\"The board's action shows what free enterprise\n",
    "...     is up against in our complex maze of regulatory laws .\"\"\""
   ]
  },
  {
   "cell_type": "code",
   "execution_count": 132,
   "id": "6ed4ac68-5dde-431c-bcb3-343696622a12",
   "metadata": {},
   "outputs": [
    {
     "name": "stdout",
     "output_type": "stream",
     "text": [
      "The board's action shows what free enterprise\n",
      "    is up against in our complex maze of regulatory laws .\n"
     ]
    }
   ],
   "source": [
    "print(text)"
   ]
  },
  {
   "cell_type": "code",
   "execution_count": 135,
   "id": "43ff6293-09d6-4ff7-98c7-997280ae672f",
   "metadata": {},
   "outputs": [
    {
     "name": "stdout",
     "output_type": "stream",
     "text": [
      "['The', \"board's\", 'action', 'shows', 'what', 'free', 'enterprise', 'is', 'up', 'against', 'in', 'our', 'complex', 'maze', 'of', 'regulatory', 'laws', '.']\n"
     ]
    }
   ],
   "source": [
    "tokens = text.split()\n",
    "print(tokens)"
   ]
  },
  {
   "cell_type": "code",
   "execution_count": 136,
   "id": "86a64701-4d3e-4b79-a0af-5bb112100757",
   "metadata": {},
   "outputs": [
    {
     "data": {
      "text/plain": [
       "[('The', 'AT'),\n",
       " (\"board's\", None),\n",
       " ('action', 'NN'),\n",
       " ('shows', 'NNS'),\n",
       " ('what', 'WDT'),\n",
       " ('free', 'JJ'),\n",
       " ('enterprise', 'NN'),\n",
       " ('is', 'BEZ'),\n",
       " ('up', 'RP'),\n",
       " ('against', 'IN'),\n",
       " ('in', 'IN'),\n",
       " ('our', 'PP$'),\n",
       " ('complex', None),\n",
       " ('maze', None),\n",
       " ('of', 'IN'),\n",
       " ('regulatory', None),\n",
       " ('laws', 'NNS'),\n",
       " ('.', '.')]"
      ]
     },
     "execution_count": 136,
     "metadata": {},
     "output_type": "execute_result"
    }
   ],
   "source": [
    "tagger.tag(tokens)"
   ]
  },
  {
   "cell_type": "code",
   "execution_count": null,
   "id": "2536d3a9-26a1-4f60-a48d-fe4cf2d09c03",
   "metadata": {},
   "outputs": [],
   "source": []
  }
 ],
 "metadata": {
  "kernelspec": {
   "display_name": "Python 3 (ipykernel)",
   "language": "python",
   "name": "python3"
  },
  "language_info": {
   "codemirror_mode": {
    "name": "ipython",
    "version": 3
   },
   "file_extension": ".py",
   "mimetype": "text/x-python",
   "name": "python",
   "nbconvert_exporter": "python",
   "pygments_lexer": "ipython3",
   "version": "3.12.7"
  }
 },
 "nbformat": 4,
 "nbformat_minor": 5
}
